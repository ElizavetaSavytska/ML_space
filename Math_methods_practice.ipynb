{
 "cells": [
  {
   "cell_type": "code",
   "execution_count": 1,
   "metadata": {},
   "outputs": [
    {
     "name": "stdout",
     "output_type": "stream",
     "text": [
      "0.6333333333333333\n"
     ]
    }
   ],
   "source": [
    "import math\n",
    "\n",
    "def func(n):\n",
    "    return ((-1)**(n+1))/math.factorial(n)\n",
    "\n",
    "def sum(f, a):\n",
    "    n = 1\n",
    "    s = f(n)\n",
    "    while abs(f(n))>a:\n",
    "        n+=1\n",
    "        s+=f(n)\n",
    "    return s\n",
    "\n",
    "print(sum(func, 0.01))\n",
    "    "
   ]
  },
  {
   "cell_type": "code",
   "execution_count": 2,
   "metadata": {},
   "outputs": [
    {
     "name": "stdout",
     "output_type": "stream",
     "text": [
      "0.6321205588285578\n"
     ]
    }
   ],
   "source": [
    "def sum_full(f):\n",
    "    n = 1\n",
    "    s = f(n)\n",
    "    while n<=1000:\n",
    "        n+=1\n",
    "        s+=f(n)\n",
    "    return s\n",
    "\n",
    "print(sum_full(func))"
   ]
  },
  {
   "cell_type": "code",
   "execution_count": 5,
   "metadata": {},
   "outputs": [
    {
     "name": "stdout",
     "output_type": "stream",
     "text": [
      "0.02\n",
      "0.0360841913607051\n",
      "0.0180420956803526\n"
     ]
    }
   ],
   "source": [
    "import sympy as sym\n",
    "import sympy as sp\n",
    "import numpy as np\n",
    "#test\n",
    "x = sym.symbols('x')\n",
    "\n",
    "a = 0\n",
    "b = 2\n",
    "n = 100\n",
    "n_2 = 2*n\n",
    "h = (b-a)/n\n",
    "h_2 = (b-a)/n_2\n",
    "print(h)\n",
    "#print(h_2)\n",
    "x_i_1 = 0\n",
    "sum = 0\n",
    "y = 1/(16-x**2)**(3/2)\n",
    "func = 0\n",
    "sum_1 = 0\n",
    "for i in range(1, n+1, 1):\n",
    "    x_i_1 = a + (i-0.5)*h\n",
    "    func = y.subs({x:x_i_1})\n",
    "    sum += h*func\n",
    "    sum_1 += h_2*func\n",
    "print(sum)#answer\n",
    "print(sum_1)"
   ]
  },
  {
   "cell_type": "code",
   "execution_count": 20,
   "metadata": {},
   "outputs": [
    {
     "name": "stdout",
     "output_type": "stream",
     "text": [
      "0.0360843886920272\n"
     ]
    }
   ],
   "source": [
    "def CenterRectangle(f, a, b, n, x=sp.symbols('x')):\n",
    "    h = (b-a)/n\n",
    "    x_i_1 = 0\n",
    "    sum = 0\n",
    "    func = 0\n",
    "    for i in range(1, n+1, 1):\n",
    "        x_i_1 = a + (i-1)*h + h/2\n",
    "        func = y.subs({x:x_i_1})\n",
    "        sum += h*func\n",
    "    return sum\n",
    "\n",
    "a = 0\n",
    "b = 2\n",
    "n = 800\n",
    "y = 1/(16-x**2)**(3/2)\n",
    "print(CenterRectangle(y, a, b, n))"
   ]
  },
  {
   "cell_type": "code",
   "execution_count": 7,
   "metadata": {},
   "outputs": [
    {
     "name": "stdout",
     "output_type": "stream",
     "text": [
      "0.0360793833463741\n"
     ]
    }
   ],
   "source": [
    "def RungeCenterRectangle(f, a, b, n, e):\n",
    "    i = 2\n",
    "    Sum_n = CenterRectangle(y, a, b, n)\n",
    "    Sum_2n = CenterRectangle(y, a, b, 2*n)\n",
    "    while np.abs(Sum_2n-Sum_n)/3 > e:\n",
    "        i*= 2\n",
    "        Sum_n = Sum_2n\n",
    "        Sum_2n = CenterRectangle(y, a, b, n*i)\n",
    "    return Sum_2n\n",
    "\n",
    "print(RungeCenterRectangle(y, a, b, n, 0.0001))\n"
   ]
  },
  {
   "cell_type": "code",
   "execution_count": 8,
   "metadata": {
    "scrolled": true
   },
   "outputs": [
    {
     "name": "stdout",
     "output_type": "stream",
     "text": [
      "9.61172856861077\n"
     ]
    }
   ],
   "source": [
    "import sympy as sym\n",
    "import numpy as np\n",
    "#test\n",
    "#трапеции\n",
    "x = sym.symbols('x')\n",
    "y = 7/(x**2 + 1)\n",
    "\n",
    "a = 0\n",
    "b = 5\n",
    "n = 10\n",
    "h = (b-a)/n\n",
    "x_i = 0\n",
    "f_x_i = 0\n",
    "sum = 0\n",
    "res = 0\n",
    "for i in range (1, n, 1):\n",
    "    x_i = a + i*h\n",
    "    f_x_i = y.subs({x:x_i})\n",
    "    sum += f_x_i\n",
    "res = h*(((y.subs(x, a) + y.subs(x, b))/2) + sum)\n",
    "print(res)"
   ]
  },
  {
   "cell_type": "code",
   "execution_count": 17,
   "metadata": {},
   "outputs": [
    {
     "name": "stdout",
     "output_type": "stream",
     "text": [
      "0.0361244265372505\n"
     ]
    }
   ],
   "source": [
    "def Trapeze (f, a, b, n, x=sp.symbols('x')):\n",
    "    h = (b-a)/n\n",
    "    x_i = 0\n",
    "    f_x_i = 0\n",
    "    sum = 0\n",
    "    res = 0\n",
    "    for i in range (1, n, 1):\n",
    "        x_i = a + i*h\n",
    "        f_x_i = y.subs({x:x_i})\n",
    "        sum += f_x_i\n",
    "    res = h*(((y.subs(x, a) + y.subs(x, b))/2) + sum)\n",
    "    return res\n",
    "\n",
    "\n",
    "a = 0\n",
    "b = 2\n",
    "n = 10\n",
    "y = 1/(16-x**2)**(3/2)\n",
    "print(Trapeze(y, a, b, n))"
   ]
  },
  {
   "cell_type": "code",
   "execution_count": 84,
   "metadata": {},
   "outputs": [
    {
     "name": "stdout",
     "output_type": "stream",
     "text": [
      "0.0360944115595367\n"
     ]
    }
   ],
   "source": [
    "def RungeTrapeze (f, a, b, n, e):\n",
    "    i = 2\n",
    "    Sum_n = Trapeze (y, a, b, n)\n",
    "    Sum_2n = Trapeze (y, a, b, 2*n)\n",
    "    while np.abs(Sum_2n-Sum_n)/3 > e:\n",
    "        i*= 2\n",
    "        Sum_n = Sum_2n\n",
    "        Sum_2n = Trapeze(y, a, b, n*i)\n",
    "    return Sum_2n\n",
    "\n",
    "print(RungeTrapeze(y, a, b, n, 0.001))"
   ]
  },
  {
   "cell_type": "code",
   "execution_count": 78,
   "metadata": {},
   "outputs": [
    {
     "name": "stdout",
     "output_type": "stream",
     "text": [
      "0.0360846228134242\n"
     ]
    }
   ],
   "source": [
    "import sympy as sym\n",
    "import numpy as np\n",
    "#test\n",
    "#симпсон \n",
    "x = sym.symbols('x')\n",
    "y = 1/(16-x**2)**(3/2)\n",
    "\n",
    "a = 0\n",
    "b = 2\n",
    "n = 5\n",
    "h = (b-a)/(2*n)\n",
    "x_2i_1 = 0\n",
    "x_2i = 0\n",
    "f_x_2i_1 = 0\n",
    "f_x_2i = 0\n",
    "sum1 = 0\n",
    "sum2 = 0\n",
    "res = 0\n",
    "for i in range (1, 2*n+1, 2):\n",
    "    x_2i_1 = a + i*h\n",
    "    f_x_2i_1 = y.subs({x:x_2i_1})\n",
    "    sum1 += f_x_2i_1\n",
    "for i in range(2, 2*n, 2):\n",
    "    x_2i = a+i*h\n",
    "    f_x_2i = y.subs({x:x_2i})\n",
    "    sum2 += f_x_2i\n",
    "res = (h/3)*(y.subs(x, a) + y.subs(x, (a+(2*n)*h)) + 4*sum1 + 2*sum2)\n",
    "print(res)\n",
    "  "
   ]
  },
  {
   "cell_type": "code",
   "execution_count": 79,
   "metadata": {},
   "outputs": [
    {
     "name": "stdout",
     "output_type": "stream",
     "text": [
      "0.0360844065669654\n"
     ]
    }
   ],
   "source": [
    "def Sympson (f, a, b, n, x=sp.symbols('x')):\n",
    "    h = (b-a)/(2*n)\n",
    "    x_2i_1 = 0\n",
    "    x_2i = 0\n",
    "    f_x_2i_1 = 0\n",
    "    f_x_2i = 0\n",
    "    sum1 = 0\n",
    "    sum2 = 0\n",
    "    res = 0\n",
    "    for i in range (1, 2*n+1, 2):\n",
    "        x_2i_1 = a + i*h\n",
    "        f_x_2i_1 = y.subs({x:x_2i_1})\n",
    "        sum1 += f_x_2i_1\n",
    "    for i in range(2, 2*n, 2):\n",
    "        x_2i = a+i*h\n",
    "        f_x_2i = y.subs({x:x_2i})\n",
    "        sum2 += f_x_2i\n",
    "    res = (h/3)*(y.subs(x, a) + y.subs(x, (a+(2*n)*h)) + 4*sum1 + 2*sum2)\n",
    "    return res\n",
    "\n",
    "a = 0\n",
    "b = 2\n",
    "n = 10\n",
    "y = 1/(16-x**2)**(3/2)\n",
    "print(Sympson(y, a, b, n))"
   ]
  },
  {
   "cell_type": "code",
   "execution_count": 85,
   "metadata": {},
   "outputs": [
    {
     "name": "stdout",
     "output_type": "stream",
     "text": [
      "0.0360843927507616\n"
     ]
    }
   ],
   "source": [
    "def RungeSympson (f, a, b, n, e):\n",
    "    i = 2\n",
    "    Sum_n = Sympson (y, a, b, n)\n",
    "    Sum_2n = Sympson  (y, a, b, 2*n)\n",
    "    while np.abs(Sum_2n-Sum_n)/15 > e:\n",
    "        i*= 2\n",
    "        Sum_n = Sum_2n\n",
    "        Sum_2n = Sympson (y, a, b, n*i)\n",
    "    return Sum_2n\n",
    "\n",
    "print(RungeSympson(y, a, b, n, 0.001))"
   ]
  },
  {
   "cell_type": "code",
   "execution_count": 108,
   "metadata": {},
   "outputs": [
    {
     "name": "stdout",
     "output_type": "stream",
     "text": [
      "Gauss:  0.0360843918243520\n",
      "RungeGauss:  0.0360843224622131\n"
     ]
    }
   ],
   "source": [
    "def N_Gayss(f, x=sp.symbols('x')):\n",
    "       n = sp.polys.polytools.degree(f, gen=0)\n",
    "       if n == 0 or n == 1:\n",
    "           return 2\n",
    "       else:\n",
    "           return n\n",
    "\n",
    "\n",
    "\n",
    "\n",
    "\n",
    "def Leg_roots_and_weights(n):  \n",
    "   P = sp.legendre(n, x)\n",
    "   X = [sp.real_roots(P)[i].evalf() for i in range(n)]\n",
    "   P_1 = sp.diff(P)\n",
    "   W = [2 / ((1 - X[i] ** 2) * (P_1.subs(x, X[i])) ** 2) for i in range(len(X))]\n",
    "   return W, X\n",
    "\n",
    "\n",
    "def F_Gayss(f, a, b, n, x=sp.symbols('x')):\n",
    "    W, X = Leg_roots_and_weights(n)\n",
    "    ans = np.array([W[i] * f.subs(x, ((b + a) / 2 + (b - a) * X[i] / 2)) for i in range(n)]).sum() * (b - a) / 2\n",
    "    return ans.evalf()\n",
    "        \n",
    "a = 0\n",
    "b = 2\n",
    "#n = 10\n",
    "y = 1/(16-x**2)**(3/2)\n",
    "print('Gauss: ', F_Gayss(y, a, b, n))\n",
    " \n",
    " \n",
    "def F_Gayss_with_precision_check(f, a, b, e, x=sp.symbols('x')):\n",
    "       i = 1\n",
    "       n = N_Gayss(f)\n",
    "       ans = F_Gayss(f, a, b, n)\n",
    "       ans_prev = F_Gayss(f, a, b, int(n / 2))\n",
    "       while np.abs(ans - ans_prev) ** 1.5 * 200 > e:\n",
    "           i *= 2\n",
    "           ans_prev = ans\n",
    "           ans = F_Gayss(f, a, b, n * i)\n",
    "       return ans\n",
    "\n",
    "\n",
    "print('RungeGauss: ', F_Gayss_with_precision_check(y, a, b, 0.001))"
   ]
  },
  {
   "cell_type": "code",
   "execution_count": null,
   "metadata": {},
   "outputs": [],
   "source": []
  },
  {
   "cell_type": "code",
   "execution_count": null,
   "metadata": {},
   "outputs": [],
   "source": []
  },
  {
   "cell_type": "code",
   "execution_count": 94,
   "metadata": {},
   "outputs": [
    {
     "name": "stdout",
     "output_type": "stream",
     "text": [
      "1.06485173099352\n"
     ]
    }
   ],
   "source": [
    "sp.var('x')\n",
    "sp.var('y')\n",
    "\n",
    "\n",
    "def F_cell_method(f, a, b, c, d, n, m, x=sp.symbols('x'), y=sp.symbols('y')):\n",
    "\n",
    "       h1 = (b - a) / n\n",
    "       h2 = (d - c) / m\n",
    "       ans = h1 * h2 * np.array([np.array(\n",
    "           [f.subs({x: (2 * a + 2 * h1 * i + h1) / 2, y: (2 * c + 2 * h2 * j + h2) / 2}) for i in range(n)]).sum() for\n",
    "                                 j in range(m)]).sum()\n",
    "       \n",
    "       return ans.evalf()\n",
    "\n",
    "\n",
    "F = 12*y*sp.exp(6*x*y)\n",
    "a1 = sp.log(3)\n",
    "b1 = sp.log(4)\n",
    "a2 = 1/6\n",
    "b2 = 1/3\n",
    "\n",
    "print(F_cell_method(F, a1, b1, a2, b2, 50, 50))"
   ]
  },
  {
   "cell_type": "code",
   "execution_count": null,
   "metadata": {},
   "outputs": [],
   "source": []
  },
  {
   "cell_type": "code",
   "execution_count": null,
   "metadata": {},
   "outputs": [],
   "source": []
  },
  {
   "cell_type": "code",
   "execution_count": 98,
   "metadata": {},
   "outputs": [
    {
     "name": "stdout",
     "output_type": "stream",
     "text": [
      "0.0416666666666667\n"
     ]
    }
   ],
   "source": [
    "def F_trapeze_method(f, a, b, c, d, n, m, x=sp.symbols('x'), y=sp.symbols('y')):\n",
    "    ans = Trapeze(Trapeze(f, a, b, n, x), c, d, m, y)\n",
    "    return ans\n",
    "\n",
    "\n",
    "\n",
    "f = 12*y*sp.exp(6*x*y)\n",
    "a1 = sp.log(3)\n",
    "b1 = sp.log(4)\n",
    "a2 = 1/6\n",
    "b2 = 1/3\n",
    "\n",
    "print(F_trapeze_method(F, a1, b1, a2, b2, 50, 50))"
   ]
  },
  {
   "cell_type": "code",
   "execution_count": 97,
   "metadata": {},
   "outputs": [
    {
     "name": "stdout",
     "output_type": "stream",
     "text": [
      "1.06503142828287\n"
     ]
    }
   ],
   "source": [
    "def F_trapeze(f, a, b, n, x=sp.symbols('x')):\n",
    "    h = (b - a) / n\n",
    "    ans = h * ((f.subs(x, a) + f.subs(x, b)) / 2 + np.array([f.subs(x, a + h * i) for i in range(1, n)]).sum())\n",
    "    return ans.evalf()\n",
    " \n",
    " \n",
    "def F_trapeze_method(f, a, b, c, d, n, m, x=sp.symbols('x'), y=sp.symbols('y')):\n",
    "    ans = F_trapeze(F_trapeze(f, a, b, n, x), c, d, m, y)\n",
    "    return ans.evalf()\n",
    "\n",
    "\n",
    "f = 12*y*sp.exp(6*x*y)\n",
    "a1 = sp.log(3)\n",
    "b1 = sp.log(4)\n",
    "a2 = 1/6\n",
    "b2 = 1/3\n",
    "\n",
    "print(F_trapeze_method(F, a1, b1, a2, b2, 50, 50))\n"
   ]
  },
  {
   "cell_type": "code",
   "execution_count": null,
   "metadata": {},
   "outputs": [],
   "source": []
  }
 ],
 "metadata": {
  "kernelspec": {
   "display_name": "Python 3",
   "language": "python",
   "name": "python3"
  },
  "language_info": {
   "codemirror_mode": {
    "name": "ipython",
    "version": 3
   },
   "file_extension": ".py",
   "mimetype": "text/x-python",
   "name": "python",
   "nbconvert_exporter": "python",
   "pygments_lexer": "ipython3",
   "version": "3.7.6"
  }
 },
 "nbformat": 4,
 "nbformat_minor": 4
}
